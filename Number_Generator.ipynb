{
 "cells": [
  {
   "cell_type": "code",
   "execution_count": 4,
   "id": "fbac6972-1ea3-4eee-bd20-134356b3b2de",
   "metadata": {},
   "outputs": [],
   "source": [
    "import random\n",
    "\n",
    "def generate_unique_numbers(n, start, end):\n",
    "    # Generate a list of unique random numbers\n",
    "    if n > (end - start + 1):\n",
    "        raise ValueError(\"Number of unique numbers exceeds the range\")\n",
    "    return random.sample(range(start, end + 1), n)\n",
    "\n",
    "def save_numbers_to_file(numbers, filename):\n",
    "    with open(filename, 'w') as file:\n",
    "        for num in numbers:\n",
    "            file.write(str(num) + '\\n')\n",
    "\n",
    "if __name__ == \"__main__\":\n",
    "    # Define parameters\n",
    "    num_of_numbers = 10000000\n",
    "    start_range = 1\n",
    "    end_range = 10000000\n",
    "    output_file = \"10M.txt\"\n",
    "\n",
    "    # Generate unique numbers\n",
    "    unique_numbers = generate_unique_numbers(num_of_numbers, start_range, end_range)\n",
    "\n",
    "    # Save to file\n",
    "    save_numbers_to_file(unique_numbers, output_file)\n"
   ]
  },
  {
   "cell_type": "code",
   "execution_count": null,
   "id": "ea9c82e7-e770-4b96-aaf1-997632229d4a",
   "metadata": {},
   "outputs": [],
   "source": []
  }
 ],
 "metadata": {
  "kernelspec": {
   "display_name": "Python 3 (ipykernel)",
   "language": "python",
   "name": "python3"
  },
  "language_info": {
   "codemirror_mode": {
    "name": "ipython",
    "version": 3
   },
   "file_extension": ".py",
   "mimetype": "text/x-python",
   "name": "python",
   "nbconvert_exporter": "python",
   "pygments_lexer": "ipython3",
   "version": "3.11.7"
  }
 },
 "nbformat": 4,
 "nbformat_minor": 5
}
