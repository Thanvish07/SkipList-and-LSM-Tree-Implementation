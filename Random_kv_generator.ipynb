{
 "cells": [
  {
   "cell_type": "code",
   "execution_count": 1,
   "id": "0ae77af1-8763-4c1a-9214-2fdb5a2945f8",
   "metadata": {},
   "outputs": [],
   "source": [
    "import random\n",
    "import string"
   ]
  },
  {
   "cell_type": "code",
   "execution_count": 2,
   "id": "91ef9da0-41ff-471d-b289-f9936784f4d0",
   "metadata": {},
   "outputs": [],
   "source": [
    "def random_string(length):\n",
    "    return ''.join(random.choices(string.ascii_letters + string.digits , k=length))"
   ]
  },
  {
   "cell_type": "code",
   "execution_count": 3,
   "id": "1fce3783-056a-4945-b93e-1774092f8ca9",
   "metadata": {},
   "outputs": [],
   "source": [
    "def generate_key():\n",
    "    return random_string(5)\n",
    "\n",
    "def generate_value():\n",
    "    return random_string(20)"
   ]
  },
  {
   "cell_type": "code",
   "execution_count": 5,
   "id": "64a590ae-5ec1-487a-8e11-a12f9087c243",
   "metadata": {},
   "outputs": [],
   "source": [
    "num_pairs = 10000000\n",
    "\n",
    "with open('Random_10M_kv_pairs.txt','w') as file:\n",
    "    for i in range(num_pairs):\n",
    "        key = generate_key()\n",
    "        value = generate_value()\n",
    "        file.write(f\"{key}: {value}\\n\")"
   ]
  },
  {
   "cell_type": "code",
   "execution_count": 6,
   "id": "67e20cb0-0d31-47aa-b2b7-d6dc34edd8bd",
   "metadata": {},
   "outputs": [],
   "source": [
    "with open('Random_10M_kv_pairs.txt', 'r') as input_file:\n",
    "    lines = input_file.readlines()\n",
    "\n",
    "random.shuffle(lines)\n",
    "\n",
    "selected_lines = lines[:10000]\n",
    "\n",
    "with open('Random_10k_kv_pairs.txt', 'w') as output_file:\n",
    "    output_file.writelines(selected_lines)"
   ]
  },
  {
   "cell_type": "code",
   "execution_count": 7,
   "id": "3efe6e3e-d566-4c56-9ea1-7af9ef2fae38",
   "metadata": {},
   "outputs": [],
   "source": [
    "with open('Random_10M_kv_pairs.txt', 'r') as input_file:\n",
    "    lines = input_file.readlines()\n",
    "\n",
    "random.shuffle(lines)\n",
    "\n",
    "selected_lines = lines[:100000]\n",
    "\n",
    "with open('Random_100k_kv_pairs.txt', 'w') as output_file:\n",
    "    output_file.writelines(selected_lines)"
   ]
  },
  {
   "cell_type": "code",
   "execution_count": 8,
   "id": "a42dc7e5-cfdb-4f22-af72-58aea5c1fd11",
   "metadata": {},
   "outputs": [],
   "source": [
    "with open('Random_10M_kv_pairs.txt', 'r') as input_file:\n",
    "    lines = input_file.readlines()\n",
    "\n",
    "random.shuffle(lines)\n",
    "\n",
    "selected_lines = lines[:1000000]\n",
    "\n",
    "with open('Random_1M_kv_pairs.txt', 'w') as output_file:\n",
    "    output_file.writelines(selected_lines)"
   ]
  }
 ],
 "metadata": {
  "kernelspec": {
   "display_name": "Python 3 (ipykernel)",
   "language": "python",
   "name": "python3"
  },
  "language_info": {
   "codemirror_mode": {
    "name": "ipython",
    "version": 3
   },
   "file_extension": ".py",
   "mimetype": "text/x-python",
   "name": "python",
   "nbconvert_exporter": "python",
   "pygments_lexer": "ipython3",
   "version": "3.11.7"
  },
  "widgets": {
   "application/vnd.jupyter.widget-state+json": {
    "state": {},
    "version_major": 2,
    "version_minor": 0
   }
  }
 },
 "nbformat": 4,
 "nbformat_minor": 5
}
